{
  "cells": [
    {
      "cell_type": "code",
      "execution_count": null,
      "metadata": {
        "gather": {
          "logged": 1720243443204
        }
      },
      "outputs": [],
      "source": [
        "# coding: utf-8\n",
        "import sys, os\n",
        "print(os.getcwd())\n",
        "current_dir = os.path.dirname(os.getcwd())\n",
        "parent_dir = os.path.dirname(current_dir)\n",
        "print(current_dir)\n",
        "sys.path.append(current_dir)\n",
        "\n",
        "import numpy as np\n",
        "from dataset.mnist import load_mnist\n",
        "from PIL import Image\n",
        "import matplotlib.pyplot as plt\n",
        "\n",
        "def img_show(img):\n",
        "    plt.imshow(img, cmap='gray')\n",
        "    plt.axis('off')\n",
        "    plt.show()\n",
        "\n",
        "(x_train, t_train) , (x_test, t_test) = load_mnist(flatten= True, normalize = False)\n",
        "\n",
        "\n",
        "img = x_train[9986]\n",
        "label = t_train[9986]\n",
        "print(label)\n",
        "    \n",
        "img = img.reshape(28,28)\n",
        "\n",
        "img_show(img)\n",
        "#imgshow 코드는 x_train, t_train으로 되어있으니 이부분 x_test, t_test로 변경하셔야 neuralnet으로 찾은 인덱스에 대한걸 볼 수 있습니다."
      ]
    }
  ],
  "metadata": {
    "kernel_info": {
      "name": "python310-sdkv2"
    },
    "kernelspec": {
      "display_name": "Python 3.10 - SDK v2",
      "language": "python",
      "name": "python310-sdkv2"
    },
    "language_info": {
      "codemirror_mode": {
        "name": "ipython",
        "version": 3
      },
      "file_extension": ".py",
      "mimetype": "text/x-python",
      "name": "python",
      "nbconvert_exporter": "python",
      "pygments_lexer": "ipython3",
      "version": "3.10.14"
    },
    "microsoft": {
      "host": {
        "AzureML": {
          "notebookHasBeenCompleted": true
        }
      }
    },
    "nteract": {
      "version": "nteract-front-end@1.0.0"
    }
  },
  "nbformat": 4,
  "nbformat_minor": 2
}
