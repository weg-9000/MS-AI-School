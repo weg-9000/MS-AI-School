{
  "cells": [
    {
      "cell_type": "code",
      "execution_count": 1,
      "metadata": {
        "gather": {
          "logged": 1720078123315
        }
      },
      "outputs": [
        {
          "name": "stdout",
          "output_type": "stream",
          "text": [
            "/mnt/batch/tasks/shared/LS_root/mounts/clusters/el202/code/Users/el20/DL/ch03\n",
            "/mnt/batch/tasks/shared/LS_root/mounts/clusters/el202/code/Users/el20/DL\n",
            "[[ 0.09698559  0.210517   -0.30750259]\n",
            " [ 0.14547839  0.3157755  -0.46125389]]\n"
          ]
        }
      ],
      "source": [
        "# coding: utf-8\n",
        "import sys,os\n",
        "print(os.getcwd)\n",
        "currnet_dir = os.path.dirname(os.getcwd())\n",
        "print(currnet_dir)\n",
        "os.chdir(currnet_dir)"
      ]
    },
    {
      "cell_type": "code",
      "execution_count": null,
      "metadata": {},
      "outputs": [],
      "source": [
        "import numpy as np\n",
        "from common.functions import softmax, cross_entropy_error\n",
        "from common.gradient import numerical_gradient\n",
        "\n",
        "class simpleNet:\n",
        "    def __init__(self):\n",
        "        self.W = np.random.randn(2,3)\n",
        "    def predict(self, x):\n",
        "        return np.dot(x, self.W)\n",
        "    def loss(self,x,t):\n",
        "        z = self.predict(x)\n",
        "        y = softmax(z)\n",
        "        loss = cross_entropy_error(y,t)\n",
        "\n",
        "        return loss\n",
        "\n",
        "x = np.array([0.6,0.9])\n",
        "t = np.array([0,0,1])\n",
        "\n",
        "net = simpleNet()\n",
        "\n",
        "f = lambda w: net.loss(x, t)\n",
        "dW = numerical_gradient(f,net.W)\n",
        "print(dW)"
      ]
    }
  ],
  "metadata": {
    "kernel_info": {
      "name": "python310-sdkv2"
    },
    "kernelspec": {
      "display_name": "Python 3.10 - SDK v2",
      "language": "python",
      "name": "python310-sdkv2"
    },
    "language_info": {
      "codemirror_mode": {
        "name": "ipython",
        "version": 3
      },
      "file_extension": ".py",
      "mimetype": "text/x-python",
      "name": "python",
      "nbconvert_exporter": "python",
      "pygments_lexer": "ipython3",
      "version": "3.10.14"
    },
    "microsoft": {
      "host": {
        "AzureML": {
          "notebookHasBeenCompleted": true
        }
      }
    },
    "nteract": {
      "version": "nteract-front-end@1.0.0"
    }
  },
  "nbformat": 4,
  "nbformat_minor": 2
}
