{
 "cells": [
  {
   "cell_type": "code",
   "execution_count": 12,
   "metadata": {},
   "outputs": [],
   "source": [
    "from azure.cognitiveservices.vision.customvision.prediction import CustomVisionPredictionClient\n",
    "from msrest.authentication import ApiKeyCredentials"
   ]
  },
  {
   "cell_type": "code",
   "execution_count": 13,
   "metadata": {},
   "outputs": [],
   "source": [
    "prediction_endpoint = \"YOUR\"\n",
    "\n",
    "prediction_key = \"KEY"\n",
    "\n",
    "project_id = \"ID\"\n",
    "\n",
    "model_name = \"NAME\""
   ]
  },
  {
   "cell_type": "code",
   "execution_count": 14,
   "metadata": {},
   "outputs": [],
   "source": [
    "credentials = ApiKeyCredentials(in_headers = {\"Prediction-key\": prediction_key})\n",
    "\n",
    "predictor = CustomVisionPredictionClient(endpoint=prediction_endpoint ,credentials = credentials)"
   ]
  },
  {
   "cell_type": "code",
   "execution_count": 15,
   "metadata": {},
   "outputs": [
    {
     "name": "stdout",
     "output_type": "stream",
     "text": [
      "Detecting objects in  /workspaces/codespaces-jupyter/data/Basalt_Cristobalite_s69-45540.jpg\n"
     ]
    }
   ],
   "source": [
    "image_file = '/workspaces/codespaces-jupyter/data/Basalt_Cristobalite_s69-45540.jpg'\n",
    "print('Detecting objects in ', image_file)"
   ]
  },
  {
   "cell_type": "code",
   "execution_count": 20,
   "metadata": {},
   "outputs": [
    {
     "name": "stdout",
     "output_type": "stream",
     "text": [
      "Tag: Basalt, Prabability:  99.97\n",
      "Tag: Highland, Prabability:  0.03\n"
     ]
    }
   ],
   "source": [
    "with open(image_file, mode=\"rb\") as image_data:\n",
    "    results = predictor.classify_image(project_id , model_name, image_data)\n",
    "\n",
    "for prediction in results.predictions:\n",
    "    print(f\"Tag: {prediction.tag_name}, Prabability: {prediction.probability* 100: .2f}\")"
   ]
  }
 ],
 "metadata": {
  "kernelspec": {
   "display_name": "Python 3",
   "language": "python",
   "name": "python3"
  },
  "language_info": {
   "codemirror_mode": {
    "name": "ipython",
    "version": 3
   },
   "file_extension": ".py",
   "mimetype": "text/x-python",
   "name": "python",
   "nbconvert_exporter": "python",
   "pygments_lexer": "ipython3",
   "version": "3.12.1"
  }
 },
 "nbformat": 4,
 "nbformat_minor": 2
}
