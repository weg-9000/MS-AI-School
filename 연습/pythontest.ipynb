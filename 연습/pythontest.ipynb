{
 "cells": [
  {
   "cell_type": "markdown",
   "metadata": {},
   "source": [
    "## 2024 -12-19"
   ]
  },
  {
   "cell_type": "markdown",
   "metadata": {},
   "source": [
    "# 파이썬 기본 문법"
   ]
  },
  {
   "cell_type": "code",
   "execution_count": 4,
   "metadata": {},
   "outputs": [
    {
     "name": "stdout",
     "output_type": "stream",
     "text": [
      "hello world\n"
     ]
    }
   ],
   "source": [
    "print('hello world')"
   ]
  },
  {
   "cell_type": "code",
   "execution_count": 5,
   "metadata": {},
   "outputs": [
    {
     "name": "stdout",
     "output_type": "stream",
     "text": [
      "hello world\n",
      "hello world2\n",
      "hello world3\n"
     ]
    }
   ],
   "source": [
    "print('hello world')\n",
    "print('hello world2')\n",
    "print('hello world3')"
   ]
  },
  {
   "cell_type": "code",
   "execution_count": 6,
   "metadata": {},
   "outputs": [
    {
     "data": {
      "text/plain": [
       "'hello world3'"
      ]
     },
     "execution_count": 6,
     "metadata": {},
     "output_type": "execute_result"
    }
   ],
   "source": [
    "\"hello world\"\n",
    "\"hello world2\"\n",
    "\"hello world3\""
   ]
  },
  {
   "cell_type": "code",
   "execution_count": 8,
   "metadata": {},
   "outputs": [
    {
     "name": "stdout",
     "output_type": "stream",
     "text": [
      "1\n",
      "2\n",
      "3\n"
     ]
    }
   ],
   "source": [
    "print(1)\n",
    "print(2)\n",
    "print(3)"
   ]
  },
  {
   "cell_type": "code",
   "execution_count": 9,
   "metadata": {},
   "outputs": [
    {
     "name": "stdout",
     "output_type": "stream",
     "text": [
      "1\n",
      "2\n",
      "3\n"
     ]
    }
   ],
   "source": [
    "print('1')\n",
    "print('2')\n",
    "print('3')"
   ]
  },
  {
   "cell_type": "code",
   "execution_count": 10,
   "metadata": {},
   "outputs": [
    {
     "name": "stdout",
     "output_type": "stream",
     "text": [
      "3\n",
      "5\n",
      "7\n"
     ]
    }
   ],
   "source": [
    "print(1+2)\n",
    "print(2+3)\n",
    "print(3+4)"
   ]
  },
  {
   "cell_type": "code",
   "execution_count": 11,
   "metadata": {},
   "outputs": [
    {
     "name": "stdout",
     "output_type": "stream",
     "text": [
      "1+2\n",
      "2+3\n",
      "3+4\n"
     ]
    }
   ],
   "source": [
    "print('1+2')\n",
    "print('2+3')\n",
    "print('3+4')"
   ]
  },
  {
   "cell_type": "code",
   "execution_count": 12,
   "metadata": {},
   "outputs": [
    {
     "data": {
      "text/plain": [
       "7"
      ]
     },
     "execution_count": 12,
     "metadata": {},
     "output_type": "execute_result"
    }
   ],
   "source": [
    "1+2\n",
    "2+3\n",
    "3+4"
   ]
  },
  {
   "cell_type": "code",
   "execution_count": 14,
   "metadata": {},
   "outputs": [
    {
     "name": "stdout",
     "output_type": "stream",
     "text": [
      "hello\n",
      "Python\n",
      "홍길동 나이 = 20 세\n"
     ]
    }
   ],
   "source": [
    "print('hello')\n",
    "print('Python')\n",
    "print('홍길동 나이 = 20 세')"
   ]
  },
  {
   "cell_type": "code",
   "execution_count": 19,
   "metadata": {},
   "outputs": [
    {
     "name": "stdout",
     "output_type": "stream",
     "text": [
      "hello\n",
      "Python\n",
      "홍길동 나이 = 20 세\n"
     ]
    }
   ],
   "source": [
    "# 프린트문 연습습\n",
    "print('hello')\n",
    "print('Python')\n",
    "print('홍길동', '나이 =', 20, '세')"
   ]
  },
  {
   "cell_type": "code",
   "execution_count": 23,
   "metadata": {},
   "outputs": [
    {
     "name": "stdout",
     "output_type": "stream",
     "text": [
      "hello\n",
      "python\n",
      "nice to meet you\n"
     ]
    }
   ],
   "source": [
    "print('hello'); print('python')\n",
    "\n",
    "print('nice \\\n",
    "to meet you')"
   ]
  },
  {
   "cell_type": "code",
   "execution_count": 26,
   "metadata": {},
   "outputs": [
    {
     "name": "stdout",
     "output_type": "stream",
     "text": [
      "hiPython\n"
     ]
    }
   ],
   "source": [
    "print('hi' , 'Python' , sep='')"
   ]
  },
  {
   "cell_type": "code",
   "execution_count": 27,
   "metadata": {},
   "outputs": [
    {
     "name": "stdout",
     "output_type": "stream",
     "text": [
      "hi python\n"
     ]
    }
   ],
   "source": [
    "print('hi', end=' ')\n",
    "print('python')"
   ]
  },
  {
   "cell_type": "code",
   "execution_count": null,
   "metadata": {},
   "outputs": [],
   "source": []
  },
  {
   "cell_type": "markdown",
   "metadata": {},
   "source": [
    "#### 변수"
   ]
  },
  {
   "cell_type": "code",
   "execution_count": 57,
   "metadata": {},
   "outputs": [
    {
     "name": "stdout",
     "output_type": "stream",
     "text": [
      "정도헌 나이 =  25 세\n"
     ]
    }
   ],
   "source": [
    "name = '정도헌'\n",
    "age = 25\n",
    "\n",
    "print(name , '나이 = ', age , '세')"
   ]
  },
  {
   "cell_type": "code",
   "execution_count": 58,
   "metadata": {},
   "outputs": [
    {
     "data": {
      "text/plain": [
       "str"
      ]
     },
     "execution_count": 58,
     "metadata": {},
     "output_type": "execute_result"
    }
   ],
   "source": [
    "type(name)"
   ]
  },
  {
   "cell_type": "code",
   "execution_count": 59,
   "metadata": {},
   "outputs": [
    {
     "data": {
      "text/plain": [
       "int"
      ]
     },
     "execution_count": 59,
     "metadata": {},
     "output_type": "execute_result"
    }
   ],
   "source": [
    "type(age)"
   ]
  },
  {
   "cell_type": "code",
   "execution_count": 60,
   "metadata": {},
   "outputs": [
    {
     "data": {
      "text/plain": [
       "False"
      ]
     },
     "execution_count": 60,
     "metadata": {},
     "output_type": "execute_result"
    }
   ],
   "source": [
    "int()\n",
    "str()\n",
    "float()\n",
    "bool()"
   ]
  },
  {
   "cell_type": "code",
   "execution_count": 61,
   "metadata": {},
   "outputs": [
    {
     "data": {
      "text/plain": [
       "True"
      ]
     },
     "execution_count": 61,
     "metadata": {},
     "output_type": "execute_result"
    }
   ],
   "source": [
    "bool('Ture')"
   ]
  },
  {
   "cell_type": "code",
   "execution_count": 62,
   "metadata": {},
   "outputs": [
    {
     "data": {
      "text/plain": [
       "bool"
      ]
     },
     "execution_count": 62,
     "metadata": {},
     "output_type": "execute_result"
    }
   ],
   "source": [
    "type(True)"
   ]
  },
  {
   "cell_type": "code",
   "execution_count": 63,
   "metadata": {},
   "outputs": [
    {
     "data": {
      "text/plain": [
       "False"
      ]
     },
     "execution_count": 63,
     "metadata": {},
     "output_type": "execute_result"
    }
   ],
   "source": [
    "bool(0)"
   ]
  },
  {
   "cell_type": "code",
   "execution_count": 64,
   "metadata": {},
   "outputs": [
    {
     "data": {
      "text/plain": [
       "True"
      ]
     },
     "execution_count": 64,
     "metadata": {},
     "output_type": "execute_result"
    }
   ],
   "source": [
    "bool(1)"
   ]
  },
  {
   "cell_type": "code",
   "execution_count": 65,
   "metadata": {},
   "outputs": [
    {
     "data": {
      "text/plain": [
       "True"
      ]
     },
     "execution_count": 65,
     "metadata": {},
     "output_type": "execute_result"
    }
   ],
   "source": [
    "bool('hello')"
   ]
  },
  {
   "cell_type": "code",
   "execution_count": 66,
   "metadata": {},
   "outputs": [
    {
     "data": {
      "text/plain": [
       "False"
      ]
     },
     "execution_count": 66,
     "metadata": {},
     "output_type": "execute_result"
    }
   ],
   "source": [
    "bool('')"
   ]
  },
  {
   "cell_type": "code",
   "execution_count": 67,
   "metadata": {},
   "outputs": [
    {
     "data": {
      "text/plain": [
       "True"
      ]
     },
     "execution_count": 67,
     "metadata": {},
     "output_type": "execute_result"
    }
   ],
   "source": [
    "bool(' ')"
   ]
  },
  {
   "cell_type": "code",
   "execution_count": null,
   "metadata": {},
   "outputs": [],
   "source": []
  },
  {
   "cell_type": "code",
   "execution_count": 71,
   "metadata": {},
   "outputs": [
    {
     "name": "stdout",
     "output_type": "stream",
     "text": [
      "합 =  7 차 = -1 곱 =  12 나눗셈=  0.75 나머지 =  3 몫 =  0 제곱 =  81\n"
     ]
    }
   ],
   "source": [
    "## 미션 1\n",
    "\n",
    "a=3\n",
    "b=4\n",
    "print('합 = ', a+b ,'차 =' , a-b ,'곱 = ', a*b ,'나눗셈= ', a/b ,'나머지 = ' , a%b ,'몫 = ', a//b ,'제곱 = ', a**b)"
   ]
  },
  {
   "cell_type": "code",
   "execution_count": 97,
   "metadata": {},
   "outputs": [
    {
     "name": "stdout",
     "output_type": "stream",
     "text": [
      "첫자리 =  4\n",
      "첫자리 =  3\n",
      "첫자리 =  2\n",
      "넷자리 =  1\n"
     ]
    }
   ],
   "source": [
    "n =1234\n",
    "\n",
    "print('첫자리 = ' , n%10)\n",
    "print('첫자리 = ' , (n//10)%10)\n",
    "print('첫자리 = ' , (n//100)%10)\n",
    "print('넷자리 = ' , n//1000)"
   ]
  },
  {
   "cell_type": "code",
   "execution_count": 82,
   "metadata": {},
   "outputs": [
    {
     "name": "stdout",
     "output_type": "stream",
     "text": [
      "123456700\n"
     ]
    }
   ],
   "source": [
    "pay= 12345678\n",
    "print((pay//10)*100)"
   ]
  },
  {
   "cell_type": "code",
   "execution_count": 99,
   "metadata": {},
   "outputs": [
    {
     "name": "stdout",
     "output_type": "stream",
     "text": [
      "4\n"
     ]
    }
   ],
   "source": [
    "a= 4648\n",
    "b = 2\n",
    "c = (a-(a//10**b)*(10**b))//(10**(b-1))\n",
    "print(c)"
   ]
  },
  {
   "cell_type": "markdown",
   "metadata": {},
   "source": [
    "##불린 연산자자"
   ]
  },
  {
   "cell_type": "code",
   "execution_count": 100,
   "metadata": {},
   "outputs": [
    {
     "name": "stdout",
     "output_type": "stream",
     "text": [
      "False\n",
      "True\n",
      "False\n",
      "True\n"
     ]
    }
   ],
   "source": [
    "print( 5 == 2)\n",
    "print( 5 != 2)\n",
    "print( 5 < 2)\n",
    "print( 5 > 2)\n"
   ]
  },
  {
   "cell_type": "code",
   "execution_count": 102,
   "metadata": {},
   "outputs": [
    {
     "name": "stdout",
     "output_type": "stream",
     "text": [
      "True\n",
      "True\n",
      "False\n"
     ]
    }
   ],
   "source": [
    "print((3<5) and (3>0))\n",
    "print((4<7) or (5>8))\n",
    "print( not(5<9))"
   ]
  },
  {
   "cell_type": "code",
   "execution_count": 104,
   "metadata": {},
   "outputs": [
    {
     "data": {
      "text/plain": [
       "'python, Hello'"
      ]
     },
     "execution_count": 104,
     "metadata": {},
     "output_type": "execute_result"
    }
   ],
   "source": [
    "head = \"python, \"\n",
    "tail = 'Hello'\n",
    "\n",
    "head + tail\n"
   ]
  },
  {
   "cell_type": "code",
   "execution_count": 105,
   "metadata": {},
   "outputs": [
    {
     "data": {
      "text/plain": [
       "'python, python, python, '"
      ]
     },
     "execution_count": 105,
     "metadata": {},
     "output_type": "execute_result"
    }
   ],
   "source": [
    "head*3\n"
   ]
  },
  {
   "cell_type": "code",
   "execution_count": 106,
   "metadata": {},
   "outputs": [
    {
     "data": {
      "text/plain": [
       "str"
      ]
     },
     "execution_count": 106,
     "metadata": {},
     "output_type": "execute_result"
    }
   ],
   "source": [
    "type(head)"
   ]
  },
  {
   "cell_type": "code",
   "execution_count": 107,
   "metadata": {},
   "outputs": [
    {
     "data": {
      "text/plain": [
       "8"
      ]
     },
     "execution_count": 107,
     "metadata": {},
     "output_type": "execute_result"
    }
   ],
   "source": [
    "len(head)"
   ]
  },
  {
   "cell_type": "code",
   "execution_count": 109,
   "metadata": {},
   "outputs": [
    {
     "data": {
      "text/plain": [
       "17"
      ]
     },
     "execution_count": 109,
     "metadata": {},
     "output_type": "execute_result"
    }
   ],
   "source": [
    "samplestring = \"life is too short\"\n",
    "len(samplestring)"
   ]
  },
  {
   "cell_type": "code",
   "execution_count": 114,
   "metadata": {},
   "outputs": [
    {
     "name": "stdout",
     "output_type": "stream",
     "text": [
      "'낮말'은 새가 듣고 '밤말' 쥐가 듣는다.\n"
     ]
    }
   ],
   "source": [
    "print(\"'낮말'은 새가 듣고 '밤말' 쥐가 듣는다.\")"
   ]
  },
  {
   "cell_type": "code",
   "execution_count": 120,
   "metadata": {},
   "outputs": [
    {
     "data": {
      "text/plain": [
       "'hor'"
      ]
     },
     "execution_count": 120,
     "metadata": {},
     "output_type": "execute_result"
    }
   ],
   "source": [
    "samplestring[-4:-1]"
   ]
  },
  {
   "cell_type": "code",
   "execution_count": 122,
   "metadata": {},
   "outputs": [
    {
     "data": {
      "text/plain": [
       "'life is too short'"
      ]
     },
     "execution_count": 122,
     "metadata": {},
     "output_type": "execute_result"
    }
   ],
   "source": [
    "samplestring[:]"
   ]
  },
  {
   "cell_type": "markdown",
   "metadata": {},
   "source": [
    "a = \"life is too short, You need Python\"\n",
    "print(a[12]+a[0]+a[24:26]+a[28])"
   ]
  },
  {
   "cell_type": "markdown",
   "metadata": {},
   "source": [
    "### input"
   ]
  },
  {
   "cell_type": "code",
   "execution_count": 124,
   "metadata": {},
   "outputs": [
    {
     "data": {
      "text/plain": [
       "'hello'"
      ]
     },
     "execution_count": 124,
     "metadata": {},
     "output_type": "execute_result"
    }
   ],
   "source": [
    "input()"
   ]
  },
  {
   "cell_type": "code",
   "execution_count": null,
   "metadata": {},
   "outputs": [
    {
     "name": "stdout",
     "output_type": "stream",
     "text": [
      "당신의 이름은 정도헌 입니다.\n"
     ]
    }
   ],
   "source": [
    "name = input('이름을 입력하세요')\n",
    "\n",
    "print('당신의 이름은 ' + name + ' 입니다.')"
   ]
  },
  {
   "cell_type": "code",
   "execution_count": 131,
   "metadata": {},
   "outputs": [
    {
     "name": "stdout",
     "output_type": "stream",
     "text": [
      "10\n",
      "12\n",
      "22\n"
     ]
    }
   ],
   "source": [
    "a =int(input('숫자1: ' ))\n",
    "b =int(input('숫자2: ' ))\n",
    "print(a) ; print(b)\n",
    "c = a + b\n",
    "print (c)"
   ]
  },
  {
   "cell_type": "code",
   "execution_count": 140,
   "metadata": {},
   "outputs": [
    {
     "name": "stdout",
     "output_type": "stream",
     "text": [
      "높이: 10\n",
      "넓이: 12\n",
      "60.0\n"
     ]
    }
   ],
   "source": [
    "a =int(input('밑변: ' ))\n",
    "b =int(input('높이: ' ))\n",
    "print('높이:' , a) \n",
    "print('넓이:' , b)\n",
    "c = a*b/2\n",
    "print(c)"
   ]
  },
  {
   "cell_type": "code",
   "execution_count": 138,
   "metadata": {},
   "outputs": [
    {
     "name": "stdout",
     "output_type": "stream",
     "text": [
      "김밥:  1 개  떡볶이:  2 개 라면:  3 개\n",
      "총금액 =  22000 원\n"
     ]
    }
   ],
   "source": [
    "a = int(input('김밥: ' ))\n",
    "b = int(input('떡볶이: ' ))\n",
    "c = int(input('라면: ' ))\n",
    "print('김밥: ' , a , '개', ' 떡볶이: ' , b , '개', '라면: ' , c , '개')\n",
    "d = (a*3000 + b*3500 + c*4000)\n",
    "print(\"총금액 = \" , d , '원')"
   ]
  },
  {
   "cell_type": "code",
   "execution_count": null,
   "metadata": {},
   "outputs": [],
   "source": []
  },
  {
   "cell_type": "markdown",
   "metadata": {},
   "source": [
    "## Format"
   ]
  },
  {
   "cell_type": "code",
   "execution_count": 143,
   "metadata": {},
   "outputs": [
    {
     "name": "stdout",
     "output_type": "stream",
     "text": [
      "1.00*20.00 = 20.00\n"
     ]
    }
   ],
   "source": [
    "a = float(input(\"첫번째 값 입력:\" ))\n",
    "b = float(input(\"첫번째 값 입력:\" ))\n",
    "\n",
    "print(f'{a:.2f}*{b:.2f} = {a*b:.2f}')"
   ]
  },
  {
   "cell_type": "code",
   "execution_count": 150,
   "metadata": {},
   "outputs": [
    {
     "name": "stdout",
     "output_type": "stream",
     "text": [
      "반지름: 150.7cm\n",
      "원의 둘레: 946.4cm\n",
      "원의 넓이 71309.0㎤\n"
     ]
    }
   ],
   "source": [
    "a = float(input(\"반지름 입력(cm):\" ))\n",
    "\n",
    "print(f\"반지름: {a:.1f}cm\")\n",
    "print(f\"원의 둘레: {(a*2*3.14):.1f}cm\")\n",
    "print(f\"원의 넓이 {a**2*3.14:.1f}㎤\")"
   ]
  },
  {
   "cell_type": "code",
   "execution_count": null,
   "metadata": {},
   "outputs": [],
   "source": []
  },
  {
   "cell_type": "code",
   "execution_count": null,
   "metadata": {},
   "outputs": [],
   "source": []
  },
  {
   "cell_type": "markdown",
   "metadata": {},
   "source": [
    "## IF 문"
   ]
  },
  {
   "cell_type": "code",
   "execution_count": null,
   "metadata": {},
   "outputs": [],
   "source": []
  },
  {
   "cell_type": "code",
   "execution_count": 151,
   "metadata": {},
   "outputs": [
    {
     "name": "stdout",
     "output_type": "stream",
     "text": [
      "맛난거 먹기\n"
     ]
    }
   ],
   "source": [
    "money  = True\n",
    "\n",
    "if money:\n",
    "    print('맛난거 먹기')\n",
    "    "
   ]
  },
  {
   "cell_type": "code",
   "execution_count": null,
   "metadata": {},
   "outputs": [],
   "source": []
  },
  {
   "cell_type": "code",
   "execution_count": 153,
   "metadata": {},
   "outputs": [
    {
     "name": "stdout",
     "output_type": "stream",
     "text": [
      "this is test\n"
     ]
    }
   ],
   "source": [
    "result = 10 > 4\n",
    "if result:\n",
    "    print(\"this is test\")"
   ]
  },
  {
   "cell_type": "code",
   "execution_count": 155,
   "metadata": {},
   "outputs": [
    {
     "name": "stdout",
     "output_type": "stream",
     "text": [
      "친구한테 얻어먹기기\n"
     ]
    }
   ],
   "source": [
    "money  = 10-10\n",
    "\n",
    "if money:\n",
    "    print('맛난거 먹기')\n",
    "else:\n",
    "    print(\"친구한테 얻어먹기기\")\n",
    "\n",
    "\n"
   ]
  },
  {
   "cell_type": "code",
   "execution_count": null,
   "metadata": {},
   "outputs": [],
   "source": []
  },
  {
   "cell_type": "code",
   "execution_count": 162,
   "metadata": {},
   "outputs": [
    {
     "name": "stdout",
     "output_type": "stream",
     "text": [
      "홀수 입니다.\n"
     ]
    }
   ],
   "source": [
    "num = int(input('숫자 입력:' ))\n",
    "\n",
    "if num%2 == 0:\n",
    "    print('짝수 입니다.')\n",
    "else:\n",
    "    print('홀수 입니다.')"
   ]
  },
  {
   "cell_type": "code",
   "execution_count": 164,
   "metadata": {},
   "outputs": [
    {
     "name": "stdout",
     "output_type": "stream",
     "text": [
      "B\n"
     ]
    }
   ],
   "source": [
    "a = int(input('점수를 입력하세요:' ))\n",
    "if a> 90:\n",
    "    print('A')\n",
    "elif a < 90  and a >= 80 :\n",
    "    print('B')\n",
    "elif a < 80  and a >= 70 :\n",
    "    print('C')\n",
    "elif a < 70  and a >= 60 :\n",
    "    print('D')\n",
    "else:\n",
    "    print('F') "
   ]
  },
  {
   "cell_type": "code",
   "execution_count": 180,
   "metadata": {},
   "outputs": [
    {
     "name": "stdout",
     "output_type": "stream",
     "text": [
      "언제든지 구매 가능\n"
     ]
    }
   ],
   "source": [
    "a = int(input('출생 연도 끝자리:' ))\n",
    "b = int(input('나이를 입력하세요:' ))\n",
    "if b >= 65:\n",
    "    print('언제든지 구매 가능')\n",
    "elif a == 1 or a == 6:\n",
    "    print('월요일에 구매가능')\n",
    "elif a == 2 or a == 7:\n",
    "    print('화요일에 구매가능')\n",
    "elif a == 3 or a == 8:\n",
    "    print('수요일에 구매가능')\n",
    "elif a == 4 or a == 9:\n",
    "    print('목요일에 구매가능')\n",
    "else:\n",
    "    print('금요일에 구매가능')\n"
   ]
  },
  {
   "cell_type": "code",
   "execution_count": 185,
   "metadata": {},
   "outputs": [
    {
     "name": "stdout",
     "output_type": "stream",
     "text": [
      "키: 175.00cm, 몸무게:68.00kg , bmi지수: 22.20\n",
      "정상체중\n"
     ]
    }
   ],
   "source": [
    "a = float(input('키:' ))\n",
    "b = float(input('몸무게:' ))\n",
    "c = (b/(a*a/100**2))\n",
    "\n",
    "print(f\"키: {a:.2f}cm, 몸무게:{b:.2f}kg , bmi지수: {c:.2f}\")\n",
    "if c > 35.0:\n",
    "    print('고도비만')\n",
    "elif c <= 35.0 and c > 30 :\n",
    "    print('비만')\n",
    "elif c <= 30.0 and c > 25 :\n",
    "    print('과체중')\n",
    "elif c <= 25 and c > 18.5 :\n",
    "    print('정상체중')\n",
    "else:\n",
    "    print('저체중')"
   ]
  },
  {
   "cell_type": "code",
   "execution_count": 14,
   "metadata": {},
   "outputs": [
    {
     "name": "stdout",
     "output_type": "stream",
     "text": [
      "1 2 4 7 8 11 13 14 16 17 19 22 23 26 28 29 "
     ]
    }
   ],
   "source": [
    "\n",
    "\n"
   ]
  },
  {
   "cell_type": "code",
   "execution_count": 20,
   "metadata": {},
   "outputs": [
    {
     "name": "stdout",
     "output_type": "stream",
     "text": [
      "1 2 4 7 8 11 13 14 16 17 19 22 23 26 28 29 "
     ]
    }
   ],
   "source": [
    "a = int(input('마지막 숫자:' ))\n",
    "i = 0\n",
    "while True:\n",
    "    i = i + 1\n",
    "    if i == a:\n",
    "        break\n",
    "\n",
    "    elif i%3 == 0 or i%5 == 0:\n",
    "        continue\n",
    "    \n",
    "    else:\n",
    "        print(i , end = ' ')"
   ]
  },
  {
   "cell_type": "code",
   "execution_count": 25,
   "metadata": {},
   "outputs": [
    {
     "name": "stdout",
     "output_type": "stream",
     "text": [
      "1 2 짝 4 5 짝 7 8 짝 10 11 12 짝 14 15 짝 17 18 짝 20 21 22 짝 24 25 짝 27 28 짝 30 31 32 짝 "
     ]
    }
   ],
   "source": [
    "a = int(input('마지막 숫자:' ))\n",
    "i = 0\n",
    "while True:\n",
    "    i = i + 1\n",
    "    if  i > a:\n",
    "        break\n",
    "    elif i%10 == 3 or i%10 == 6 or i%10 == 9:\n",
    "        print('짝' , end = ' ')\n",
    "        continue\n",
    "    else:\n",
    "        print(i , end = ' ')\n",
    "\n"
   ]
  },
  {
   "cell_type": "code",
   "execution_count": 28,
   "metadata": {},
   "outputs": [
    {
     "name": "stdout",
     "output_type": "stream",
     "text": [
      "비밀번호를 잘못입력하였습니다.\n",
      "비밀번호를 잘못입력하였습니다.\n",
      "로그인 완료\n"
     ]
    }
   ],
   "source": [
    "\n",
    "i = 'python'\n",
    "while True:\n",
    "    a = str(input('비밀번호를 입력하세요:' ))\n",
    "    if i == a:\n",
    "        print('로그인 완료')\n",
    "        break\n",
    "    else:\n",
    "        print('비밀번호를 잘못입력하였습니다.')\n",
    "        \n",
    "    continue\n"
   ]
  },
  {
   "cell_type": "code",
   "execution_count": 47,
   "metadata": {},
   "outputs": [
    {
     "name": "stdout",
     "output_type": "stream",
     "text": [
      "*"
     ]
    }
   ],
   "source": [
    "\n",
    "    \n"
   ]
  },
  {
   "cell_type": "code",
   "execution_count": 51,
   "metadata": {},
   "outputs": [
    {
     "name": "stdout",
     "output_type": "stream",
     "text": [
      "\n",
      "*\n",
      "***\n",
      "*****\n",
      "*******\n",
      "*********\n",
      "***********\n",
      "*************\n",
      "***************\n",
      "*****************\n"
     ]
    }
   ],
   "source": [
    "for i in range(0 , 20 , 2):\n",
    "    for j in range(1,i):\n",
    "        print('*', end ='')\n",
    "    print()"
   ]
  },
  {
   "cell_type": "code",
   "execution_count": 52,
   "metadata": {},
   "outputs": [
    {
     "name": "stdout",
     "output_type": "stream",
     "text": [
      "*******************\n",
      "*****************\n",
      "***************\n",
      "*************\n",
      "***********\n",
      "*********\n",
      "*******\n",
      "*****\n",
      "***\n",
      "*\n"
     ]
    }
   ],
   "source": [
    "for i in range(20 , 0 , -2):\n",
    "    for j in range(1,i):\n",
    "        print('*', end ='')\n",
    "    print()"
   ]
  },
  {
   "cell_type": "code",
   "execution_count": 74,
   "metadata": {},
   "outputs": [
    {
     "name": "stdout",
     "output_type": "stream",
     "text": [
      "                            \n",
      "                  *        \n",
      "                 ***       \n",
      "                *****      \n",
      "               *******     \n",
      "              *********    \n",
      "             ***********   \n",
      "            *************  \n",
      "           *************** \n",
      "          *****************\n",
      "         *******************\n",
      "        *********************\n",
      "       ***********************\n",
      "      *************************\n",
      "     ***************************\n",
      "    *****************************\n",
      "   *******************************\n",
      "  *********************************\n",
      " ***********************************\n",
      "*************************************\n"
     ]
    }
   ],
   "source": [
    "for i in range(20):\n",
    "    for j in range(19 , i , -1):\n",
    "        print(' ', end ='')\n",
    "    print('*'*(2*i-1), end = '')\n",
    "    \n",
    "    for k in range(i+1, 10):\n",
    "        print(\" \", end = '')\n",
    "\n",
    "    print()\n",
    "\n"
   ]
  },
  {
   "cell_type": "code",
   "execution_count": 75,
   "metadata": {},
   "outputs": [
    {
     "name": "stdout",
     "output_type": "stream",
     "text": [
      "                                                                                                                                                                                              "
     ]
    }
   ],
   "source": [
    "for i in range(20):\n",
    "    for j in range(19 , i , -1):\n",
    "        print(' ', end ='')"
   ]
  },
  {
   "cell_type": "code",
   "execution_count": 9,
   "metadata": {},
   "outputs": [
    {
     "name": "stdout",
     "output_type": "stream",
     "text": [
      "4\t6\t8\t10\t12\t14\t16\t18\t\n",
      "\n",
      "6\t9\t12\t15\t18\t21\t24\t27\t\n",
      "\n",
      "8\t12\t16\t20\t24\t28\t32\t36\t\n",
      "\n",
      "10\t15\t20\t25\t30\t35\t40\t45\t\n",
      "\n",
      "12\t18\t24\t30\t36\t42\t48\t54\t\n",
      "\n",
      "14\t21\t28\t35\t42\t49\t56\t63\t\n",
      "\n",
      "16\t24\t32\t40\t48\t56\t64\t72\t\n",
      "\n",
      "18\t27\t36\t45\t54\t63\t72\t81\t\n",
      "\n"
     ]
    }
   ],
   "source": [
    "for i in range(2,10):\n",
    "    for k in range(2,10):\n",
    "        print(k*i, end=\"\\t\")\n",
    "    print(\"\\n\")\n",
    "    "
   ]
  },
  {
   "cell_type": "code",
   "execution_count": 39,
   "metadata": {},
   "outputs": [
    {
     "name": "stdout",
     "output_type": "stream",
     "text": [
      "돈이 적습니다.\n",
      "150원 부족합니다.\n",
      "커피가 3개 남았습니다.\n",
      "커피가 나왔습니다.\n",
      "커피가 2개 남았습니다.\n",
      "돈이 적습니다.\n",
      "50원 부족합니다.\n",
      "커피가 2개 남았습니다.\n",
      "200원 이 남았습니다.\n",
      "커피가 나왔습니다.\n",
      "커피가 1개 남았습니다.\n",
      "5500원 이 남았습니다.\n",
      "커피가 나왔습니다.\n",
      "커피가 0개 남았습니다.\n",
      "커피가 없습니다.\n"
     ]
    }
   ],
   "source": [
    "i = 3\n",
    "price = 300\n",
    "while True:\n",
    "    a = int(input('커피값:' ))\n",
    "\n",
    "    if i == 0:\n",
    "        print('커피가 없습니다.')\n",
    "        break\n",
    "\n",
    "    if a == price:\n",
    "        print('커피가 나왔습니다.')\n",
    "        i = i -1\n",
    "        print(f\"커피가 {i}개 남았습니다.\")\n",
    "        \n",
    "        continue\n",
    "    \n",
    "    elif a > price:\n",
    "        print(f\"{a-price}원 이 남았습니다.\")\n",
    "        print('커피가 나왔습니다.')\n",
    "        i = i -1\n",
    "        print(f\"커피가 {i}개 남았습니다.\")\n",
    "        continue\n",
    "    \n",
    "    else:\n",
    "        print('돈이 적습니다.')\n",
    "        print(f\"{price - a}원 부족합니다.\")\n",
    "        print(f\"커피가 {i}개 남았습니다.\")\n",
    "        continue"
   ]
  },
  {
   "cell_type": "code",
   "execution_count": null,
   "metadata": {},
   "outputs": [],
   "source": []
  },
  {
   "cell_type": "markdown",
   "metadata": {},
   "source": [
    "## 딕셔너리"
   ]
  },
  {
   "cell_type": "code",
   "execution_count": null,
   "metadata": {},
   "outputs": [],
   "source": []
  },
  {
   "cell_type": "code",
   "execution_count": 43,
   "metadata": {},
   "outputs": [
    {
     "name": "stdout",
     "output_type": "stream",
     "text": [
      "<class 'dict'>\n"
     ]
    }
   ],
   "source": [
    "menu = {'김밥':2000 , '라면' : 3000 , '돈까스' : 5000}\n",
    "print(type(menu))\n",
    "menu['떡볶이'] = 3000"
   ]
  },
  {
   "cell_type": "code",
   "execution_count": 44,
   "metadata": {},
   "outputs": [
    {
     "data": {
      "text/plain": [
       "2000"
      ]
     },
     "execution_count": 44,
     "metadata": {},
     "output_type": "execute_result"
    }
   ],
   "source": [
    "menu['김밥']"
   ]
  },
  {
   "cell_type": "code",
   "execution_count": 45,
   "metadata": {},
   "outputs": [
    {
     "data": {
      "text/plain": [
       "3000"
      ]
     },
     "execution_count": 45,
     "metadata": {},
     "output_type": "execute_result"
    }
   ],
   "source": [
    "menu['떡볶이']"
   ]
  },
  {
   "cell_type": "code",
   "execution_count": null,
   "metadata": {},
   "outputs": [
    {
     "ename": "AttributeError",
     "evalue": "'int' object has no attribute 'keys'",
     "output_type": "error",
     "traceback": [
      "\u001b[1;31m---------------------------------------------------------------------------\u001b[0m",
      "\u001b[1;31mAttributeError\u001b[0m                            Traceback (most recent call last)",
      "Cell \u001b[1;32mIn[57], line 1\u001b[0m\n\u001b[1;32m----> 1\u001b[0m menu_keys \u001b[38;5;241m=\u001b[39m \u001b[43mmenu\u001b[49m\u001b[38;5;241;43m.\u001b[39;49m\u001b[43mkeys\u001b[49m()\n",
      "\u001b[1;31mAttributeError\u001b[0m: 'int' object has no attribute 'keys'"
     ]
    }
   ],
   "source": [
    "menu.keys()"
   ]
  },
  {
   "cell_type": "code",
   "execution_count": 50,
   "metadata": {},
   "outputs": [
    {
     "data": {
      "text/plain": [
       "dict_values([2000, 3000, 5000, 3000, 3000])"
      ]
     },
     "execution_count": 50,
     "metadata": {},
     "output_type": "execute_result"
    }
   ],
   "source": [
    "menu.values()"
   ]
  },
  {
   "cell_type": "code",
   "execution_count": 51,
   "metadata": {},
   "outputs": [
    {
     "data": {
      "text/plain": [
       "dict_items([('김밥', 2000), ('라면', 3000), ('돈까스', 5000), ('떡볶이', 3000), ('로제 떡볶이', 3000)])"
      ]
     },
     "execution_count": 51,
     "metadata": {},
     "output_type": "execute_result"
    }
   ],
   "source": [
    "menu.items()"
   ]
  },
  {
   "cell_type": "code",
   "execution_count": 64,
   "metadata": {},
   "outputs": [
    {
     "name": "stdout",
     "output_type": "stream",
     "text": [
      "김밥\n",
      "라면\n",
      "돈까스\n"
     ]
    }
   ],
   "source": [
    "menu = {'김밥':2000 , '라면' : 3000 , '돈까스' : 5000}\n",
    "for menus in menu.keys():\n",
    "    print(menus)"
   ]
  },
  {
   "cell_type": "code",
   "execution_count": 55,
   "metadata": {},
   "outputs": [
    {
     "name": "stdout",
     "output_type": "stream",
     "text": [
      "2000\n",
      "3000\n",
      "5000\n",
      "3000\n",
      "3000\n"
     ]
    }
   ],
   "source": [
    "for menu in menu.values():\n",
    "    print(menu)"
   ]
  },
  {
   "cell_type": "code",
   "execution_count": 63,
   "metadata": {},
   "outputs": [
    {
     "name": "stdout",
     "output_type": "stream",
     "text": [
      "('김밥', 2000)\n",
      "('라면', 3000)\n",
      "('돈까스', 5000)\n"
     ]
    }
   ],
   "source": [
    "menu = {'김밥':2000 , '라면' : 3000 , '돈까스' : 5000}\n",
    "for menu_item in menu.items():\n",
    "    print(menu_item)"
   ]
  },
  {
   "cell_type": "code",
   "execution_count": 65,
   "metadata": {},
   "outputs": [
    {
     "data": {
      "text/plain": [
       "{'라면': 3000, '돈까스': 5000}"
      ]
     },
     "execution_count": 65,
     "metadata": {},
     "output_type": "execute_result"
    }
   ],
   "source": [
    "menu = {'김밥':2000 , '라면' : 3000 , '돈까스' : 5000}\n",
    "menu.pop('김밥')\n",
    "menu"
   ]
  },
  {
   "cell_type": "code",
   "execution_count": 66,
   "metadata": {},
   "outputs": [
    {
     "data": {
      "text/plain": [
       "{'라면': 3000}"
      ]
     },
     "execution_count": 66,
     "metadata": {},
     "output_type": "execute_result"
    }
   ],
   "source": [
    "menu.popitem()\n",
    "menu"
   ]
  },
  {
   "cell_type": "code",
   "execution_count": null,
   "metadata": {},
   "outputs": [],
   "source": [
    "#딕셔너리로 하나의 자료를 만들고\n",
    "#리스트로 여러 자료를 묶어 하나의 전화번호부처럼 만들 수 있다."
   ]
  },
  {
   "cell_type": "code",
   "execution_count": 68,
   "metadata": {},
   "outputs": [
    {
     "name": "stdout",
     "output_type": "stream",
     "text": [
      "김밥 2000\n",
      "라면 3000\n",
      "돈까스 5000\n"
     ]
    }
   ],
   "source": [
    "menu = {'김밥':2000 , '라면' : 3000 , '돈까스' : 5000}\n",
    "for key, value in menu.items():\n",
    "    print(key, value)"
   ]
  },
  {
   "cell_type": "code",
   "execution_count": 70,
   "metadata": {},
   "outputs": [
    {
     "name": "stdout",
     "output_type": "stream",
     "text": [
      "2000\n"
     ]
    }
   ],
   "source": [
    "print(menu.get('김밥'))"
   ]
  },
  {
   "cell_type": "code",
   "execution_count": null,
   "metadata": {},
   "outputs": [],
   "source": []
  },
  {
   "cell_type": "code",
   "execution_count": null,
   "metadata": {},
   "outputs": [
    {
     "ename": "KeyboardInterrupt",
     "evalue": "",
     "output_type": "error",
     "traceback": [
      "\u001b[1;31m---------------------------------------------------------------------------\u001b[0m",
      "\u001b[1;31mKeyboardInterrupt\u001b[0m                         Traceback (most recent call last)",
      "Cell \u001b[1;32mIn[76], line 3\u001b[0m\n\u001b[0;32m      1\u001b[0m menu \u001b[38;5;241m=\u001b[39m \u001b[38;5;28minput\u001b[39m(\u001b[38;5;124m'\u001b[39m\u001b[38;5;124m1.보기 2.추가 3.삭제 3.종료(0번) :\u001b[39m\u001b[38;5;124m'\u001b[39m )\n\u001b[0;32m      2\u001b[0m todolist \u001b[38;5;241m=\u001b[39m []\n\u001b[1;32m----> 3\u001b[0m \u001b[38;5;28;01mwhile\u001b[39;00m \u001b[38;5;28;01mTrue\u001b[39;00m:\n\u001b[0;32m      4\u001b[0m     \u001b[38;5;28;01mif\u001b[39;00m menu \u001b[38;5;241m==\u001b[39m \u001b[38;5;241m1\u001b[39m:\n\u001b[0;32m      5\u001b[0m         \u001b[38;5;28mprint\u001b[39m(todolist)\n",
      "\u001b[1;31mKeyboardInterrupt\u001b[0m: "
     ]
    }
   ],
   "source": [
    "\n"
   ]
  },
  {
   "cell_type": "code",
   "execution_count": 93,
   "metadata": {},
   "outputs": [
    {
     "name": "stdout",
     "output_type": "stream",
     "text": [
      "0.ㅁㄴㅇㄻㄴ\n",
      "**********\n",
      "0.ㅁㄴㅇㄻㄴ\n",
      "1.ㅂㅈㄷㅅㄱㅂㅈㄹ\n",
      "**********\n",
      "0.ㅁㄴㅇㄻㄴ\n",
      "1.ㅂㅈㄷㅅㄱㅂㅈㄹ\n",
      "2.ㄴㅇㅁㅊㄴㅇㄼ\n",
      "**********\n",
      "0.ㅁㄴㅇㄻㄴ\n",
      "1.ㅂㅈㄷㅅㄱㅂㅈㄹ\n",
      "2.ㄴㅇㅁㅊㄴㅇㄼ\n",
      "3.ㅁㄵㅇㄻㄴㅇ\n",
      "**********\n",
      "0.ㅁㄴㅇㄻㄴ\n",
      "1.ㅂㅈㄷㅅㄱㅂㅈㄹ\n",
      "2.ㄴㅇㅁㅊㄴㅇㄼ\n",
      "3.ㅁㄵㅇㄻㄴㅇ\n",
      "4.ㅁㄴㅇㄹ\n",
      "**********\n",
      "0.ㅁㄴㅇㄻㄴ\n",
      "1.ㅂㅈㄷㅅㄱㅂㅈㄹ\n",
      "2.ㄴㅇㅁㅊㄴㅇㄼ\n",
      "3.ㅁㄵㅇㄻㄴㅇ\n",
      "4.ㅁㄴㅇㄹ\n",
      "5.ㅁㄴㅇㅀ\n",
      "**********\n",
      "0.ㅁㄴㅇㄻㄴ\n",
      "1.ㅂㅈㄷㅅㄱㅂㅈㄹ\n",
      "2.ㄴㅇㅁㅊㄴㅇㄼ\n",
      "3.ㅁㄵㅇㄻㄴㅇ\n",
      "4.ㅁㄴㅇㅀ\n",
      "**********\n",
      "오늘의 할일을 종료합니다.\n",
      "\n"
     ]
    }
   ],
   "source": [
    "todolist = []\n",
    "i = 0\n",
    "while True:\n",
    "    menu = int(input('1.보기 2.추가 3.삭제 3.종료(0번) :' ))\n",
    "    if menu == 1:\n",
    "        for todolist_1 in todolist:\n",
    "                print(f\"{todolist_1}\")\n",
    "        print(\"*\"*10, end = \"\\n\")\n",
    "        continue\n",
    "    if menu == 2:\n",
    "        menu_append = input('추가할 항목: ')\n",
    "        todolist.append(menu_append)\n",
    "\n",
    "        for i in range(len(todolist)):    \n",
    "            print(f\"{i}.{todolist[i]}\")\n",
    "        print(\"*\"*10, end = \"\\n\")\n",
    "        continue\n",
    "    if menu == 3:\n",
    "        todolist_remove = input('삭제할 항목: ')\n",
    "        todolist.remove(todolist_remove)\n",
    "        for i in range(len(todolist)):    \n",
    "            print(f\"{i}.{todolist[i]}\")\n",
    "        print(\"*\"*10, end = \"\\n\")\n",
    "\n",
    "    if menu == 0:\n",
    "        print('오늘의 할일을 종료합니다.')\n",
    "        \n",
    "        break\n",
    "print()\n"
   ]
  },
  {
   "cell_type": "code",
   "execution_count": 106,
   "metadata": {},
   "outputs": [
    {
     "name": "stdout",
     "output_type": "stream",
     "text": [
      "['ㅂㅈㅂ', 'ㄴㅁㄴㅇㄹ']\n",
      "None\n"
     ]
    },
    {
     "ename": "ValueError",
     "evalue": "invalid literal for int() with base 10: 'ㅂㅈㅂ'",
     "output_type": "error",
     "traceback": [
      "\u001b[1;31m---------------------------------------------------------------------------\u001b[0m",
      "\u001b[1;31mValueError\u001b[0m                                Traceback (most recent call last)",
      "Cell \u001b[1;32mIn[106], line 4\u001b[0m\n\u001b[0;32m      2\u001b[0m fre \u001b[38;5;241m=\u001b[39m {}\n\u001b[0;32m      3\u001b[0m \u001b[38;5;28;01mwhile\u001b[39;00m \u001b[38;5;28;01mTrue\u001b[39;00m:\n\u001b[1;32m----> 4\u001b[0m     menu \u001b[38;5;241m=\u001b[39m \u001b[38;5;28;43mint\u001b[39;49m\u001b[43m(\u001b[49m\u001b[38;5;28;43minput\u001b[39;49m\u001b[43m(\u001b[49m\u001b[38;5;124;43m'\u001b[39;49m\u001b[38;5;124;43m1.추가 2.삭제 3.검색 4.종료(0번) :\u001b[39;49m\u001b[38;5;124;43m'\u001b[39;49m\u001b[43m \u001b[49m\u001b[43m)\u001b[49m\u001b[43m)\u001b[49m\n\u001b[0;32m      6\u001b[0m     \u001b[38;5;28;01mif\u001b[39;00m menu \u001b[38;5;241m==\u001b[39m \u001b[38;5;241m1\u001b[39m:\n\u001b[0;32m      7\u001b[0m         fre_name \u001b[38;5;241m=\u001b[39m \u001b[38;5;28minput\u001b[39m(\u001b[38;5;124m'\u001b[39m\u001b[38;5;124m이름: \u001b[39m\u001b[38;5;124m'\u001b[39m)\n",
      "\u001b[1;31mValueError\u001b[0m: invalid literal for int() with base 10: 'ㅂㅈㅂ'"
     ]
    }
   ],
   "source": [
    "fred = []\n",
    "fre = {}\n",
    "while True:\n",
    "    menu = int(input('1.추가 2.삭제 3.검색 4.종료(0번) :' ))\n",
    "\n",
    "    if menu == 1:\n",
    "        fre_name = input('이름: ')\n",
    "        fre_number = input('번호: ')\n",
    "        \n",
    "        fre[f'{fre_name}'] = fre_number\n",
    "     \n",
    "        fred.append(fre)\n",
    "        \n",
    "\n",
    "    elif menu == 2:\n",
    "        fre_name_del = input('이름: ')\n",
    "        del(fre[fre_name_del])\n",
    "        \n",
    "           \n",
    "\n",
    "    elif menu == 3:\n",
    "         print(list(fre.keys()))\n",
    "         search = input('검색할 친구: ')\n",
    "         if fre.get(search):\n",
    "            print(fre.get(search))\n",
    "            \n",
    "         else:\n",
    "             print('잘못입력')\n",
    "\n",
    "\n",
    "    elif menu == 0:\n",
    "        print('오늘의 할일을 종료합니다.')\n",
    "        \n",
    "        break\n",
    "    else:\n",
    "        print('잘못입력하였습니다.')\n",
    "        continue\n",
    "print()"
   ]
  },
  {
   "cell_type": "code",
   "execution_count": null,
   "metadata": {},
   "outputs": [],
   "source": []
  },
  {
   "cell_type": "code",
   "execution_count": null,
   "metadata": {},
   "outputs": [],
   "source": []
  },
  {
   "cell_type": "code",
   "execution_count": null,
   "metadata": {},
   "outputs": [
    {
     "name": "stdout",
     "output_type": "stream",
     "text": [
      "eggg\n",
      "단어가 없습니다.\n",
      "단어가 없습니다.\n",
      "단어가 없습니다.\n",
      "단어가 없습니다.\n"
     ]
    }
   ],
   "source": [
    "language = {'egg':'eggg'}\n",
    "\n",
    "while True:\n",
    "     search = input('검색: ')\n",
    "     if language .get(search):\n",
    "          print(language[search])\n",
    "     \n",
    "     elif search == 'end':\n",
    "          print('사전을 종료합니다.')\n",
    "          break\n",
    "          \n",
    "     else:\n",
    "          print('단어가 없습니다.')\n",
    "          continue\n"
   ]
  },
  {
   "cell_type": "code",
   "execution_count": 44,
   "metadata": {},
   "outputs": [
    {
     "name": "stdout",
     "output_type": "stream",
     "text": [
      "Alice의 평균:89.0\n",
      "bob의 평균:82.0\n",
      "charlie의 평균:92.0\n",
      "전체 학생의 평균: 87.66666666666667\n",
      "90점이상 : ['Alice', 'bob', 'charlie']\n"
     ]
    }
   ],
   "source": [
    "students = [{'name':'Alice', 'score':[90,85,92]},\n",
    "            {'name':'bob', 'score':[78,80,88],},\n",
    "            {'name':'charlie','score':[95,92,89]}]\n",
    "stu_list = []\n",
    "all_ave = 0\n",
    "average = 0\n",
    "for student in  students:\n",
    "    average = sum(student.get('score'))/len(student.get('score'))\n",
    "    print(f\"{student.get('name')}의 평균:{average}\")\n",
    "\n",
    "    all_ave += average\n",
    "\n",
    "print(f\"전체 학생의 평균: {all_ave/len(students)}\")\n",
    "\n",
    "for student in students:\n",
    "    if any(90 > val for val in student.get('score')):\n",
    "      stu_list.append(student.get('name'))\n",
    "print(f\"90점이상 : {stu_list}\")\n"
   ]
  },
  {
   "cell_type": "code",
   "execution_count": null,
   "metadata": {},
   "outputs": [],
   "source": []
  }
 ],
 "metadata": {
  "kernelspec": {
   "display_name": "Python 3",
   "language": "python",
   "name": "python3"
  },
  "language_info": {
   "codemirror_mode": {
    "name": "ipython",
    "version": 3
   },
   "file_extension": ".py",
   "mimetype": "text/x-python",
   "name": "python",
   "nbconvert_exporter": "python",
   "pygments_lexer": "ipython3",
   "version": "3.13.1"
  }
 },
 "nbformat": 4,
 "nbformat_minor": 2
}
