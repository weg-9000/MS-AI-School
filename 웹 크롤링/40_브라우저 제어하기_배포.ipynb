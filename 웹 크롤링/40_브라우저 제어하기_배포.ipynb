{
 "cells": [
  {
   "cell_type": "markdown",
   "metadata": {},
   "source": [
    "# 웹드라이버 객체 생성\n",
    "- 웹드라이버 : 브라우저 조작을 위한 도구\n",
    "- selenium의 webdriver 모듈에서 Chrome 브라우저를 제어하기 위한 클래스 제공"
   ]
  },
  {
   "cell_type": "code",
   "execution_count": 1,
   "metadata": {},
   "outputs": [],
   "source": [
    "#!pip install selenium==4.17.0\n",
    "#!pip show selenium\n",
    "#!pip install typing_extensions"
   ]
  },
  {
   "cell_type": "code",
   "execution_count": 6,
   "metadata": {},
   "outputs": [],
   "source": [
    "# 크롬 웹드라이버 클래스 import\n",
    "from selenium.webdriver import Chrome\n",
    "\n",
    "\n",
    "# 크롬 웹드라이버 객체 생성\n",
    "driver = Chrome()"
   ]
  },
  {
   "cell_type": "markdown",
   "metadata": {},
   "source": [
    "# 브라우저 제어\n",
    "    - `get(URL)` : 페이지로 이동하기기\n",
    "    - `back()` : 뒤로가기\n",
    "    - `forward()` : 앞으로가기\n",
    "    - `refresh()` : 새로고침\n",
    "    - `maximize_window()` : 브라우저크기 최대화\n",
    "    - `minimize_window()` : 브라우저크기 최소화\n",
    "    - `close()` : 웹드라이버로 생성한 현재 창 종료\n",
    "    - `quit()` : 웹드라이버로 생성한 모든 창 종료"
   ]
  },
  {
   "cell_type": "code",
   "execution_count": 3,
   "metadata": {},
   "outputs": [],
   "source": [
    "# 브라우저 크기 최소화\n",
    "driver.minimize_window()\n",
    "\n",
    "# 브라우저 크기 최대화\n",
    "driver.maximize_window()"
   ]
  },
  {
   "cell_type": "code",
   "execution_count": 4,
   "metadata": {},
   "outputs": [],
   "source": [
    "# 페이지 이동1\n",
    "driver.get(\"http://www.naver.com\")\n",
    "\n",
    "# 페이지 이동2\n",
    "driver.get(\"http://www.goolge.com\")\n",
    "\n",
    "# 페이지 이동3\n",
    "driver.get(\"http://www.daum.com\")\n",
    "\n"
   ]
  },
  {
   "cell_type": "code",
   "execution_count": 39,
   "metadata": {},
   "outputs": [
    {
     "ename": "NoSuchWindowException",
     "evalue": "Message: no such window: target window already closed\nfrom unknown error: web view not found\n  (Session info: chrome=132.0.6834.160)\nStacktrace:\n\tGetHandleVerifier [0x00007FF751DD02F5+28725]\n\t(No symbol) [0x00007FF751D32AE0]\n\t(No symbol) [0x00007FF751BC510A]\n\t(No symbol) [0x00007FF751B9EEA5]\n\t(No symbol) [0x00007FF751C46F87]\n\t(No symbol) [0x00007FF751C5FA52]\n\t(No symbol) [0x00007FF751C3FD53]\n\t(No symbol) [0x00007FF751C0A0E3]\n\t(No symbol) [0x00007FF751C0B471]\n\tGetHandleVerifier [0x00007FF7520FF30D+3366989]\n\tGetHandleVerifier [0x00007FF7521112F0+3440688]\n\tGetHandleVerifier [0x00007FF7521078FD+3401277]\n\tGetHandleVerifier [0x00007FF751E9AAAB+858091]\n\t(No symbol) [0x00007FF751D3E74F]\n\t(No symbol) [0x00007FF751D3A304]\n\t(No symbol) [0x00007FF751D3A49D]\n\t(No symbol) [0x00007FF751D28B69]\n\tBaseThreadInitThunk [0x00007FF97FD1E8D7+23]\n\tRtlUserThreadStart [0x00007FF98013BF2C+44]\n",
     "output_type": "error",
     "traceback": [
      "\u001b[1;31m---------------------------------------------------------------------------\u001b[0m",
      "\u001b[1;31mNoSuchWindowException\u001b[0m                     Traceback (most recent call last)",
      "Cell \u001b[1;32mIn[39], line 2\u001b[0m\n\u001b[0;32m      1\u001b[0m \u001b[38;5;66;03m# 이전 페이지로 이동\u001b[39;00m\n\u001b[1;32m----> 2\u001b[0m \u001b[43mdriver\u001b[49m\u001b[38;5;241;43m.\u001b[39;49m\u001b[43mback\u001b[49m\u001b[43m(\u001b[49m\u001b[43m)\u001b[49m\n",
      "File \u001b[1;32mc:\\Users\\EL0021\\AppData\\Local\\Programs\\Python\\Python313\\Lib\\site-packages\\selenium\\webdriver\\remote\\webdriver.py:550\u001b[0m, in \u001b[0;36mWebDriver.back\u001b[1;34m(self)\u001b[0m\n\u001b[0;32m    542\u001b[0m \u001b[38;5;28;01mdef\u001b[39;00m \u001b[38;5;21mback\u001b[39m(\u001b[38;5;28mself\u001b[39m) \u001b[38;5;241m-\u001b[39m\u001b[38;5;241m>\u001b[39m \u001b[38;5;28;01mNone\u001b[39;00m:\n\u001b[0;32m    543\u001b[0m \u001b[38;5;250m    \u001b[39m\u001b[38;5;124;03m\"\"\"Goes one step backward in the browser history.\u001b[39;00m\n\u001b[0;32m    544\u001b[0m \n\u001b[0;32m    545\u001b[0m \u001b[38;5;124;03m    :Usage:\u001b[39;00m\n\u001b[1;32m   (...)\u001b[0m\n\u001b[0;32m    548\u001b[0m \u001b[38;5;124;03m            driver.back()\u001b[39;00m\n\u001b[0;32m    549\u001b[0m \u001b[38;5;124;03m    \"\"\"\u001b[39;00m\n\u001b[1;32m--> 550\u001b[0m     \u001b[38;5;28;43mself\u001b[39;49m\u001b[38;5;241;43m.\u001b[39;49m\u001b[43mexecute\u001b[49m\u001b[43m(\u001b[49m\u001b[43mCommand\u001b[49m\u001b[38;5;241;43m.\u001b[39;49m\u001b[43mGO_BACK\u001b[49m\u001b[43m)\u001b[49m\n",
      "File \u001b[1;32mc:\\Users\\EL0021\\AppData\\Local\\Programs\\Python\\Python313\\Lib\\site-packages\\selenium\\webdriver\\remote\\webdriver.py:347\u001b[0m, in \u001b[0;36mWebDriver.execute\u001b[1;34m(self, driver_command, params)\u001b[0m\n\u001b[0;32m    345\u001b[0m response \u001b[38;5;241m=\u001b[39m \u001b[38;5;28mself\u001b[39m\u001b[38;5;241m.\u001b[39mcommand_executor\u001b[38;5;241m.\u001b[39mexecute(driver_command, params)\n\u001b[0;32m    346\u001b[0m \u001b[38;5;28;01mif\u001b[39;00m response:\n\u001b[1;32m--> 347\u001b[0m     \u001b[38;5;28;43mself\u001b[39;49m\u001b[38;5;241;43m.\u001b[39;49m\u001b[43merror_handler\u001b[49m\u001b[38;5;241;43m.\u001b[39;49m\u001b[43mcheck_response\u001b[49m\u001b[43m(\u001b[49m\u001b[43mresponse\u001b[49m\u001b[43m)\u001b[49m\n\u001b[0;32m    348\u001b[0m     response[\u001b[38;5;124m\"\u001b[39m\u001b[38;5;124mvalue\u001b[39m\u001b[38;5;124m\"\u001b[39m] \u001b[38;5;241m=\u001b[39m \u001b[38;5;28mself\u001b[39m\u001b[38;5;241m.\u001b[39m_unwrap_value(response\u001b[38;5;241m.\u001b[39mget(\u001b[38;5;124m\"\u001b[39m\u001b[38;5;124mvalue\u001b[39m\u001b[38;5;124m\"\u001b[39m, \u001b[38;5;28;01mNone\u001b[39;00m))\n\u001b[0;32m    349\u001b[0m     \u001b[38;5;28;01mreturn\u001b[39;00m response\n",
      "File \u001b[1;32mc:\\Users\\EL0021\\AppData\\Local\\Programs\\Python\\Python313\\Lib\\site-packages\\selenium\\webdriver\\remote\\errorhandler.py:229\u001b[0m, in \u001b[0;36mErrorHandler.check_response\u001b[1;34m(self, response)\u001b[0m\n\u001b[0;32m    227\u001b[0m         alert_text \u001b[38;5;241m=\u001b[39m value[\u001b[38;5;124m\"\u001b[39m\u001b[38;5;124malert\u001b[39m\u001b[38;5;124m\"\u001b[39m]\u001b[38;5;241m.\u001b[39mget(\u001b[38;5;124m\"\u001b[39m\u001b[38;5;124mtext\u001b[39m\u001b[38;5;124m\"\u001b[39m)\n\u001b[0;32m    228\u001b[0m     \u001b[38;5;28;01mraise\u001b[39;00m exception_class(message, screen, stacktrace, alert_text)  \u001b[38;5;66;03m# type: ignore[call-arg]  # mypy is not smart enough here\u001b[39;00m\n\u001b[1;32m--> 229\u001b[0m \u001b[38;5;28;01mraise\u001b[39;00m exception_class(message, screen, stacktrace)\n",
      "\u001b[1;31mNoSuchWindowException\u001b[0m: Message: no such window: target window already closed\nfrom unknown error: web view not found\n  (Session info: chrome=132.0.6834.160)\nStacktrace:\n\tGetHandleVerifier [0x00007FF751DD02F5+28725]\n\t(No symbol) [0x00007FF751D32AE0]\n\t(No symbol) [0x00007FF751BC510A]\n\t(No symbol) [0x00007FF751B9EEA5]\n\t(No symbol) [0x00007FF751C46F87]\n\t(No symbol) [0x00007FF751C5FA52]\n\t(No symbol) [0x00007FF751C3FD53]\n\t(No symbol) [0x00007FF751C0A0E3]\n\t(No symbol) [0x00007FF751C0B471]\n\tGetHandleVerifier [0x00007FF7520FF30D+3366989]\n\tGetHandleVerifier [0x00007FF7521112F0+3440688]\n\tGetHandleVerifier [0x00007FF7521078FD+3401277]\n\tGetHandleVerifier [0x00007FF751E9AAAB+858091]\n\t(No symbol) [0x00007FF751D3E74F]\n\t(No symbol) [0x00007FF751D3A304]\n\t(No symbol) [0x00007FF751D3A49D]\n\t(No symbol) [0x00007FF751D28B69]\n\tBaseThreadInitThunk [0x00007FF97FD1E8D7+23]\n\tRtlUserThreadStart [0x00007FF98013BF2C+44]\n"
     ]
    }
   ],
   "source": [
    "# 이전 페이지로 이동\n",
    "driver.back()"
   ]
  },
  {
   "cell_type": "code",
   "execution_count": 24,
   "metadata": {},
   "outputs": [],
   "source": [
    "# 다음 페이지로 이동\n",
    "driver.forward()"
   ]
  },
  {
   "cell_type": "code",
   "execution_count": 25,
   "metadata": {},
   "outputs": [],
   "source": [
    "# 새로고침\n",
    "driver.refresh()"
   ]
  },
  {
   "cell_type": "code",
   "execution_count": 26,
   "metadata": {},
   "outputs": [],
   "source": [
    "# 웹드라이버로 생성한 모든 창 종료\n",
    "driver.quit()"
   ]
  },
  {
   "cell_type": "markdown",
   "metadata": {},
   "source": [
    "# 요소 가져오기\n",
    "    - `find_element(요소선택방법, 선택자)` : 첫번째 요소 한개만만 가져오기\n",
    "    - `find_elements(요소선택방법, 선택자)` : 요소 모두 가져오기 (리스트)"
   ]
  },
  {
   "cell_type": "code",
   "execution_count": 7,
   "metadata": {},
   "outputs": [],
   "source": [
    "# 웹페이지 열고 이동하기 (http://www.naver.com)\n",
    "from selenium import webdriver\n",
    "driver = webdriver.Chrome()\n",
    "driver.get('http://www.naver.com')\n",
    "driver.maximize_window()"
   ]
  },
  {
   "cell_type": "code",
   "execution_count": 8,
   "metadata": {},
   "outputs": [
    {
     "data": {
      "text/plain": [
       "<selenium.webdriver.remote.webelement.WebElement (session=\"c7fddeeea6180afb5154126d6337dfb6\", element=\"f.CEDB927FB13DDA43AD4B122E14D3B96E.d.3A571222370A12F1C6906934515C4C17.e.6\")>"
      ]
     },
     "execution_count": 8,
     "metadata": {},
     "output_type": "execute_result"
    }
   ],
   "source": [
    "# 검색창 선택하기\n",
    "from selenium.webdriver.common.by import By\n",
    "search = driver.find_element(By.CSS_SELECTOR, '#query')\n",
    "search"
   ]
  },
  {
   "cell_type": "markdown",
   "metadata": {},
   "source": [
    "# 요소 제어하기\n",
    "    - `click()` : 요소 클릭\n",
    "    - `send_keys()` : 키 입력"
   ]
  },
  {
   "cell_type": "code",
   "execution_count": 9,
   "metadata": {},
   "outputs": [],
   "source": [
    "# 검색창 클릭\n",
    "search.click()"
   ]
  },
  {
   "cell_type": "code",
   "execution_count": 10,
   "metadata": {},
   "outputs": [],
   "source": [
    "# 검색어 입력\n",
    "search.send_keys(\"weg.mag\")"
   ]
  },
  {
   "cell_type": "code",
   "execution_count": 11,
   "metadata": {},
   "outputs": [],
   "source": [
    "# 엔터키 입력\n",
    "from selenium.webdriver.common.keys import Keys\n",
    "search.send_keys(Keys.ENTER)"
   ]
  },
  {
   "cell_type": "code",
   "execution_count": null,
   "metadata": {},
   "outputs": [],
   "source": [
    "# 브라우저 닫기\n",
    "driver.quit()"
   ]
  },
  {
   "cell_type": "markdown",
   "metadata": {},
   "source": [
    "# 아티클 접근과 추출"
   ]
  },
  {
   "cell_type": "markdown",
   "metadata": {},
   "source": [
    "## 페이지 웹"
   ]
  },
  {
   "cell_type": "code",
   "execution_count": null,
   "metadata": {},
   "outputs": [],
   "source": [
    "import datetime\n",
    "import time\n",
    "from selenium import webdriver\n",
    "from selenium.webdriver.common.by import By\n",
    "\n",
    "article_list = []\n",
    "page = 1\n",
    "\n",
    "date = input(\"검색할 날짜(yyyymmdd)\")\n",
    "if date==\"\": date = datetime.datetime.now().strftime('%Y-%m-%d')\n",
    "else:\n",
    "    date = f'{date[:4]}-{date[4:6]}-{date[6:]}'\n",
    "\n",
    "driver = webdriver.Chrome()\n",
    "\n",
    "\n",
    "while True:\n",
    "    \n",
    "    url = 'https://finance.naver.com/news/mainnews.naver?date='+date\n",
    "    page_url = f'{url}&page={page}'\n",
    "    driver.get(page_url)\n",
    "\n",
    "    time.sleep(2)\n",
    "\n",
    "    articles = driver.find_elements(By.CSS_SELECTOR, '.block1')\n",
    "    for article in articles:\n",
    "        Subject = article.find_element(By.CSS_SELECTOR, \".articleSubject\").text\n",
    "        summary = article.find_element(By.CSS_SELECTOR, \".articleSummary\").text\n",
    "        press = article.find_element(By.CSS_SELECTOR, \".press\").text\n",
    "        wdate = article.find_element(By.CSS_SELECTOR, \".wdate\").text\n",
    "        link = article.find_element(By.CSS_SELECTOR, \".articleSubject>a\").get_attribute(\"href\")\n",
    "        article_list.append([Subject,link,press,wdate,summary])\n",
    "\n",
    "        # 반복 빠져나오기\n",
    "    try:\n",
    "        driver.find_element(By.CSS_SELECTOR, \".pgRR\")\n",
    "        page += 1\n",
    "    except:\n",
    "        break\n",
    "\n",
    "article_list\n",
    "import pandas as pd\n",
    "df = pd.DataFrame(article_list, columns= ['subject' , 'list' , 'press' , 'date' , 'summary'])\n",
    "df.to_csv(\"네이버증권뉴스.csv\" , encoding = \" utf-8\" , index = False )\n",
    "df.to_excel(\"네이버증권뉴스.xlsx\" , index = False )"
   ]
  },
  {
   "cell_type": "markdown",
   "metadata": {},
   "source": [
    "## 스크롤 웹"
   ]
  },
  {
   "cell_type": "code",
   "execution_count": null,
   "metadata": {},
   "outputs": [],
   "source": [
    "from selenium import webdriver\n",
    "from selenium.webdriver.common.by import By\n",
    "from selenium.webdriver.common.keys import Keys\n",
    "import pandas as pd\n",
    "import time\n",
    "import openpyxl\n",
    "\n",
    "# 네이버 쇼핑 노트북 검색 URL 설정\n",
    "url = \"https://search.shopping.naver.com/search/all?query=노트북\"\n",
    "\n",
    "# Chrome 웹드라이버 객체 생성\n",
    "driver = webdriver.Chrome()\n",
    "driver.get(url) # 지정된 URL로 브라우저를 열어 이동\n",
    "driver.maximize_window() # 브라우저 창 최대화\n",
    "\n",
    "# 무한 스크롤\n",
    "# 페이지의 스크롤 높이 받아오기\n",
    "last_height = driver.execute_script(\"return document.body.scrollHeight\")\n",
    "\n",
    "while True:\n",
    "    # 스크롤 끝까지 내리기\n",
    "    driver.execute_script(\"window.scrollTo(0, document.body.scrollHeight)\")\n",
    "    time.sleep(1) # 페이지 로드 대기\n",
    "\n",
    "    # 현재 스크롤 위치 받아오기\n",
    "    current_height = driver.execute_script(\"return document.body.scrollHeight\")\n",
    "\n",
    "    # 마지막 스크롤 높이와 현재 스크롤 높이가 같으면 반복문 탈출\n",
    "    if last_height == current_height:\n",
    "        break\n",
    "\n",
    "    # 마지막 스크롤 높이를 현재 스크롤 높이로 업데이트\n",
    "    last_height = current_height\n",
    " "
   ]
  },
  {
   "cell_type": "code",
   "execution_count": null,
   "metadata": {},
   "outputs": [],
   "source": [
    "1.# 크롤링할 웹사이트 분석(ex. page형식인지, 스크롤형식인지)\n",
    "2.# 가져올 데이터 css 선택자 분석\n",
    "3.# 위 내용 토대로 코드 작성 "
   ]
  }
 ],
 "metadata": {
  "kernelspec": {
   "display_name": "Python 3",
   "language": "python",
   "name": "python3"
  },
  "language_info": {
   "codemirror_mode": {
    "name": "ipython",
    "version": 3
   },
   "file_extension": ".py",
   "mimetype": "text/x-python",
   "name": "python",
   "nbconvert_exporter": "python",
   "pygments_lexer": "ipython3",
   "version": "3.13.1"
  }
 },
 "nbformat": 4,
 "nbformat_minor": 2
}
